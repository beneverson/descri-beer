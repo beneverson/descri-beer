{
 "cells": [
  {
   "cell_type": "code",
   "execution_count": 1,
   "metadata": {
    "collapsed": true
   },
   "outputs": [],
   "source": [
    "import string\n",
    "import pandas as pd\n",
    "import numpy as np\n",
    "import sys; sys.path.append('..')\n",
    "from beer import descriptors\n",
    "from tqdm import tqdm"
   ]
  },
  {
   "cell_type": "code",
   "execution_count": 2,
   "metadata": {},
   "outputs": [
    {
     "name": "stderr",
     "output_type": "stream",
     "text": [
      "/Users/ben/miniconda3/lib/python3.4/site-packages/IPython/core/interactiveshell.py:2717: DtypeWarning: Columns (1) have mixed types. Specify dtype option on import or set low_memory=False.\n",
      "  interactivity=interactivity, compiler=compiler, result=result)\n"
     ]
    }
   ],
   "source": [
    "# load review data\n",
    "df = pd.read_csv('../data/interim/ratebeer.csv')\n",
    "df['review/text'] = df['review/text'].astype(str)"
   ]
  },
  {
   "cell_type": "markdown",
   "metadata": {},
   "source": [
    "## Idea\n",
    "simplest idea first -- train a TFIDF representation of each beer by pooling all of its reviews and getting TFIDF representation of that string. For a given query, generate TFIDF representation and find all beers which are nearest neighbors to the query vector."
   ]
  },
  {
   "cell_type": "markdown",
   "metadata": {},
   "source": [
    "## make beer vectors: TF-IDF\n",
    "using the out-of-the-box TFIDF implementation in sklearn"
   ]
  },
  {
   "cell_type": "code",
   "execution_count": 3,
   "metadata": {},
   "outputs": [],
   "source": [
    "# pool all of the review text for each beer\n",
    "rtxt_raw = df.groupby(['beer/beerId','beer/name'])['review/text'].apply(' '.join).reset_index()"
   ]
  },
  {
   "cell_type": "code",
   "execution_count": 13,
   "metadata": {},
   "outputs": [],
   "source": [
    "from sklearn.feature_extraction.text import TfidfVectorizer\n",
    "tfidf = TfidfVectorizer(min_df=0.001)"
   ]
  },
  {
   "cell_type": "code",
   "execution_count": 14,
   "metadata": {},
   "outputs": [],
   "source": [
    "# train a tfidf model, produce vectors for each document\n",
    "term_doc = tfidf.fit_transform(rtxt_raw['review/text'].values)"
   ]
  },
  {
   "cell_type": "code",
   "execution_count": 15,
   "metadata": {},
   "outputs": [
    {
     "data": {
      "text/plain": [
       "(110647, 14058)"
      ]
     },
     "execution_count": 15,
     "metadata": {},
     "output_type": "execute_result"
    }
   ],
   "source": [
    "term_doc.shape"
   ]
  },
  {
   "cell_type": "markdown",
   "metadata": {},
   "source": [
    "## index vectors for NN search\n",
    "using annoy"
   ]
  },
  {
   "cell_type": "code",
   "execution_count": 16,
   "metadata": {
    "collapsed": true
   },
   "outputs": [],
   "source": [
    "from annoy import AnnoyIndex"
   ]
  },
  {
   "cell_type": "code",
   "execution_count": 17,
   "metadata": {
    "collapsed": true
   },
   "outputs": [],
   "source": [
    "# create an AnnoyIndex with size == len(vocab)\n",
    "t = AnnoyIndex(term_doc.shape[1])"
   ]
  },
  {
   "cell_type": "code",
   "execution_count": 18,
   "metadata": {},
   "outputs": [
    {
     "name": "stderr",
     "output_type": "stream",
     "text": [
      "100%|██████████| 110647/110647 [04:02<00:00, 456.73it/s]\n"
     ]
    }
   ],
   "source": [
    "# add all beers to the index\n",
    "for doc_index in tqdm(range(term_doc.shape[0])):\n",
    "    t.add_item(doc_index, term_doc[doc_index].toarray().reshape(-1))"
   ]
  },
  {
   "cell_type": "code",
   "execution_count": 19,
   "metadata": {},
   "outputs": [
    {
     "data": {
      "text/plain": [
       "True"
      ]
     },
     "execution_count": 19,
     "metadata": {},
     "output_type": "execute_result"
    }
   ],
   "source": [
    "t.build(50)"
   ]
  },
  {
   "cell_type": "code",
   "execution_count": 203,
   "metadata": {},
   "outputs": [],
   "source": [
    "# define some convenience lookups\n",
    "id_to_pop = (1.0-df['beer/beerId'].value_counts()/df['beer/beerId'].value_counts().max()).to_dict()\n",
    "id_to_name = df[['beer/beerId', 'beer/name']].drop_duplicates().set_index('beer/beerId')['beer/name'].to_dict()"
   ]
  },
  {
   "cell_type": "code",
   "execution_count": 207,
   "metadata": {},
   "outputs": [],
   "source": [
    "def get_score(tfidf_distance, popularity, weights=[1,1]):\n",
    "    return weights[0]*tfidf_distance + weights[1]*popularity "
   ]
  },
  {
   "cell_type": "code",
   "execution_count": 208,
   "metadata": {},
   "outputs": [],
   "source": [
    "def print_query_results(positive='', negative='', n=5):\n",
    "    # form the query\n",
    "    query_vec_p = tfidf.transform([positive]).toarray().reshape(-1)\n",
    "    query_vec_n = tfidf.transform([negative]).toarray().reshape(-1)\n",
    "    query_vec = query_vec_p - query_vec_n\n",
    "    # find the nearest neighbors\n",
    "    items, distances = t.get_nns_by_vector(query_vec, n=10**6, include_distances=True, search_k=-1)\n",
    "    # compute the ranking scores\n",
    "    results = []\n",
    "    for item_id, tfidf_distance in zip(items, distances):\n",
    "        beer_id = rtxt_raw.iloc[item_id]['beer/beerId']\n",
    "        name = id_to_name[beer_id] \n",
    "        score = get_score(tfidf_distance, id_to_pop[beer_id])\n",
    "        results.append((beer_id, name, score))\n",
    "    for beer_id, name, score in sorted(results, key=lambda s: s[2])[:n]:\n",
    "        print(\"{} (score: {})\".format(name, score))"
   ]
  },
  {
   "cell_type": "code",
   "execution_count": 209,
   "metadata": {},
   "outputs": [
    {
     "name": "stdout",
     "output_type": "stream",
     "text": [
      "Guinness Draught (score: 1.2973963022232056)\n",
      "Pabst Blue Ribbon (score: 1.4226150430126108)\n",
      "North Coast Old Rasputin Russian Imperial Stout (score: 1.5031720229557584)\n",
      "Samuel Smiths Oatmeal Stout (score: 1.5200457381995727)\n",
      "Dogfish Head 90 Minute Imperial IPA (score: 1.5378611779316165)\n",
      "Youngs Double Chocolate Stout (score: 1.5637106064594153)\n",
      "Budweiser (score: 1.5673586919710234)\n",
      "Sierra Nevada Pale Ale &#40;Bottle&#41; (score: 1.5694155904637785)\n",
      "Samuel Adams Boston Lager (score: 1.5711392143588045)\n",
      "Chimay Bleue &#40;Blue&#41; / Grande Réserve (score: 1.5859191195789353)\n",
      "Victory Storm King Imperial Stout (score: 1.6301245849369925)\n",
      "Stone Arrogant Bastard Ale (score: 1.6350455877584813)\n",
      "Newcastle Brown Ale (score: 1.6512364386480092)\n",
      "Orval (score: 1.652943796409673)\n",
      "Hoegaarden (score: 1.6599563747257382)\n",
      "Rogue Shakespeare Oatmeal Stout (score: 1.6822886425695378)\n",
      "Brooklyn Black Chocolate Stout (score: 1.68809018971084)\n",
      "St. Bernardus Abt 12 (score: 1.6899902650288174)\n",
      "Rogue Dead Guy Ale (score: 1.6904323199094633)\n",
      "Stone Ruination IPA (score: 1.690535162950491)\n"
     ]
    }
   ],
   "source": [
    "print_query_results(positive='stout', negative='', n=20)"
   ]
  },
  {
   "cell_type": "code",
   "execution_count": null,
   "metadata": {
    "collapsed": true
   },
   "outputs": [],
   "source": []
  },
  {
   "cell_type": "code",
   "execution_count": null,
   "metadata": {
    "collapsed": true
   },
   "outputs": [],
   "source": []
  }
 ],
 "metadata": {
  "kernelspec": {
   "display_name": "Python 3",
   "language": "python",
   "name": "python3"
  },
  "language_info": {
   "codemirror_mode": {
    "name": "ipython",
    "version": 3
   },
   "file_extension": ".py",
   "mimetype": "text/x-python",
   "name": "python",
   "nbconvert_exporter": "python",
   "pygments_lexer": "ipython3",
   "version": "3.4.5"
  }
 },
 "nbformat": 4,
 "nbformat_minor": 2
}
