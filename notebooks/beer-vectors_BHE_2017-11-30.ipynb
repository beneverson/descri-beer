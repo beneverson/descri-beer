{
 "cells": [
  {
   "cell_type": "code",
   "execution_count": 1,
   "metadata": {
    "collapsed": true
   },
   "outputs": [],
   "source": [
    "import string\n",
    "import pandas as pd\n",
    "import numpy as np\n",
    "import sys; sys.path.append('..')\n",
    "from beer import descriptors\n",
    "from tqdm import tqdm"
   ]
  },
  {
   "cell_type": "code",
   "execution_count": 2,
   "metadata": {
    "collapsed": true
   },
   "outputs": [],
   "source": [
    "%matplotlib inline"
   ]
  },
  {
   "cell_type": "code",
   "execution_count": 3,
   "metadata": {},
   "outputs": [
    {
     "name": "stderr",
     "output_type": "stream",
     "text": [
      "/Users/ben/miniconda3/lib/python3.4/site-packages/IPython/core/interactiveshell.py:2717: DtypeWarning: Columns (1) have mixed types. Specify dtype option on import or set low_memory=False.\n",
      "  interactivity=interactivity, compiler=compiler, result=result)\n"
     ]
    }
   ],
   "source": [
    "# load review data\n",
    "df = pd.read_csv('../data/interim/ratebeer.csv')\n",
    "df['review/text'] = df['review/text'].astype(str)"
   ]
  },
  {
   "cell_type": "markdown",
   "metadata": {},
   "source": [
    "## Limit Results to 2500 most popular beers (by review count)"
   ]
  },
  {
   "cell_type": "code",
   "execution_count": 4,
   "metadata": {},
   "outputs": [
    {
     "name": "stdout",
     "output_type": "stream",
     "text": [
      "2500\n"
     ]
    }
   ],
   "source": [
    "# how many beers make up 50% of all reviews\n",
    "top_beers = df['beer/beerId'].value_counts().iloc[:2500].reset_index()\n",
    "top_beers.columns = ['beer/beerId', 'review_count']\n",
    "print(top_beers.shape[0])"
   ]
  },
  {
   "cell_type": "code",
   "execution_count": 5,
   "metadata": {},
   "outputs": [],
   "source": [
    "df_top = pd.merge(df, top_beers, how='right', on='beer/beerId')"
   ]
  },
  {
   "cell_type": "markdown",
   "metadata": {},
   "source": [
    "## Idea\n",
    "simplest idea first -- train a TFIDF representation of each beer by pooling all of its reviews and getting TFIDF representation of that string. For a given query, generate TFIDF representation and find all beers which are nearest neighbors to the query vector."
   ]
  },
  {
   "cell_type": "markdown",
   "metadata": {},
   "source": [
    "## make beer vectors: TF-IDF\n",
    "using the out-of-the-box TFIDF implementation in sklearn"
   ]
  },
  {
   "cell_type": "code",
   "execution_count": 6,
   "metadata": {
    "collapsed": true
   },
   "outputs": [],
   "source": [
    "# pool all of the review text for each beer\n",
    "rtxt_raw = df_top.groupby(['beer/beerId','beer/name'])['review/text'].apply(' '.join).reset_index()"
   ]
  },
  {
   "cell_type": "code",
   "execution_count": 7,
   "metadata": {
    "collapsed": true
   },
   "outputs": [],
   "source": [
    "from sklearn.feature_extraction.text import TfidfVectorizer\n",
    "tfidf = TfidfVectorizer(min_df=0.001)"
   ]
  },
  {
   "cell_type": "code",
   "execution_count": 8,
   "metadata": {
    "collapsed": true
   },
   "outputs": [],
   "source": [
    "# train a tfidf model, produce vectors for each document\n",
    "term_doc = tfidf.fit_transform(rtxt_raw['review/text'].values)"
   ]
  },
  {
   "cell_type": "code",
   "execution_count": 9,
   "metadata": {},
   "outputs": [
    {
     "data": {
      "text/plain": [
       "(2500, 75801)"
      ]
     },
     "execution_count": 9,
     "metadata": {},
     "output_type": "execute_result"
    }
   ],
   "source": [
    "term_doc.shape"
   ]
  },
  {
   "cell_type": "markdown",
   "metadata": {},
   "source": [
    "## load word vectors for query expansion"
   ]
  },
  {
   "cell_type": "code",
   "execution_count": 27,
   "metadata": {
    "collapsed": true
   },
   "outputs": [],
   "source": [
    "from gensim.models import KeyedVectors\n",
    "beerword_model= KeyedVectors.load_word2vec_format('../data/interim/ftmodel.vec')"
   ]
  },
  {
   "cell_type": "code",
   "execution_count": 146,
   "metadata": {},
   "outputs": [],
   "source": [
    "# define a query expansion function\n",
    "def expand_query(query, topn=10):\n",
    "    expanded = []\n",
    "    # query is a space-delimited string\n",
    "    for q in query.split(' '):\n",
    "        # add the original query term\n",
    "        if q in tfidf.vocabulary_.keys():\n",
    "            expanded.append(q)\n",
    "        # add any similar terms found by the word similarity model\n",
    "        if q in beerword_model.vocab.keys():\n",
    "            for word, score in beerword_model.similar_by_word(q, topn=10*topn):\n",
    "                if word in tfidf.vocabulary_.keys() and counter < topn:\n",
    "                    expanded.append(word)\n",
    "    # join all and return\n",
    "    return ' '.join(expanded[:topn])"
   ]
  },
  {
   "cell_type": "markdown",
   "metadata": {},
   "source": [
    "## index vectors for NN search\n",
    "using annoy"
   ]
  },
  {
   "cell_type": "code",
   "execution_count": 138,
   "metadata": {
    "collapsed": true
   },
   "outputs": [],
   "source": [
    "from annoy import AnnoyIndex"
   ]
  },
  {
   "cell_type": "code",
   "execution_count": 139,
   "metadata": {
    "collapsed": true
   },
   "outputs": [],
   "source": [
    "# create an AnnoyIndex with size == len(vocab)\n",
    "t = AnnoyIndex(term_doc.shape[1])"
   ]
  },
  {
   "cell_type": "code",
   "execution_count": 140,
   "metadata": {},
   "outputs": [
    {
     "name": "stderr",
     "output_type": "stream",
     "text": [
      "100%|██████████| 2500/2500 [00:19<00:00, 125.70it/s]\n"
     ]
    }
   ],
   "source": [
    "# add all beers to the index\n",
    "for doc_index in tqdm(range(term_doc.shape[0])):\n",
    "    t.add_item(doc_index, term_doc[doc_index].toarray().reshape(-1))"
   ]
  },
  {
   "cell_type": "code",
   "execution_count": 141,
   "metadata": {},
   "outputs": [
    {
     "data": {
      "text/plain": [
       "True"
      ]
     },
     "execution_count": 141,
     "metadata": {},
     "output_type": "execute_result"
    }
   ],
   "source": [
    "t.build(100)"
   ]
  },
  {
   "cell_type": "code",
   "execution_count": 142,
   "metadata": {
    "collapsed": true
   },
   "outputs": [],
   "source": [
    "# define some convenience lookups\n",
    "id_to_name = df[['beer/beerId', 'beer/name']].drop_duplicates().set_index('beer/beerId')['beer/name'].to_dict()"
   ]
  },
  {
   "cell_type": "code",
   "execution_count": 147,
   "metadata": {
    "collapsed": true
   },
   "outputs": [],
   "source": [
    "def print_query_results(positive='', negative='', n=5):\n",
    "    # first expand the queries\n",
    "    pos_expanded = expand_query(positive)\n",
    "    neg_expanded = expand_query(negative)\n",
    "    # form positive query vectors via tfidf\n",
    "    query_vec_p = tfidf.transform([pos_expanded]).toarray().reshape(-1)\n",
    "    # eliminate negative terms by setting their components to zero in the query\n",
    "    query_vec = [0.0 if q in neg_expanded.split(' ') else q for q in query_vec_p]\n",
    "    # find the nearest neighbors\n",
    "    items, distances = t.get_nns_by_vector(query_vec, n=term_doc.shape[0], include_distances=True, search_k=-1)\n",
    "    # print the results\n",
    "    for item_id, tfidf_distance in zip(items[:n], distances[:n]):\n",
    "        beer_id = rtxt_raw.iloc[item_id]['beer/beerId']\n",
    "        name = id_to_name[beer_id] \n",
    "        score = tfidf_distance\n",
    "        print(\"{} (score: {})\".format(name, score))"
   ]
  },
  {
   "cell_type": "code",
   "execution_count": 186,
   "metadata": {
    "scrolled": true
   },
   "outputs": [
    {
     "name": "stdout",
     "output_type": "stream",
     "text": [
      "Sly Fox Ichor (score: 1.4031444787979126)\n",
      "Southampton Abbot 12 (score: 1.4045695066452026)\n",
      "Furthermore Makeweight Triple Pale (score: 1.405379056930542)\n",
      "Chapeau Faro (score: 1.4056349992752075)\n",
      "Lagunitas Brown Shugga (score: 1.4057786464691162)\n",
      "Avery The Reverend (score: 1.4061038494110107)\n",
      "Smuttynose Gravitation (score: 1.4061509370803833)\n",
      "21st Amendment Monks Blood (score: 1.4061821699142456)\n",
      "Boulevard Sixth Glass Quadrupel (score: 1.4063763618469238)\n",
      "Sierra Nevada Ovila Dubbel (score: 1.4064805507659912)\n",
      "North Coast Cru dOr &#40;Whole Foods&#41; (score: 1.406522274017334)\n",
      "Allagash Four (score: 1.406699538230896)\n",
      "Lost Abbey Lost and Found (score: 1.40676748752594)\n",
      "Flying Dog Kerberos Tripel (score: 1.406944751739502)\n",
      "AleSmith Horny Devil (score: 1.4070098400115967)\n",
      "Dieu du Ciel Rigor Mortis Abt (score: 1.4070795774459839)\n",
      "Goose Island Pere Jacques (score: 1.4071314334869385)\n",
      "Heavy Seas Holy Sheet (score: 1.4072580337524414)\n",
      "Three Floyds Alpha Kong (score: 1.4073426723480225)\n",
      "Avery Collaboration Not Litigation (score: 1.407473087310791)\n"
     ]
    }
   ],
   "source": [
    "print_query_results(positive='sugar', negative='', n=20)"
   ]
  },
  {
   "cell_type": "code",
   "execution_count": null,
   "metadata": {
    "collapsed": true
   },
   "outputs": [],
   "source": []
  },
  {
   "cell_type": "code",
   "execution_count": null,
   "metadata": {
    "collapsed": true
   },
   "outputs": [],
   "source": []
  }
 ],
 "metadata": {
  "kernelspec": {
   "display_name": "Python 3",
   "language": "python",
   "name": "python3"
  },
  "language_info": {
   "codemirror_mode": {
    "name": "ipython",
    "version": 3
   },
   "file_extension": ".py",
   "mimetype": "text/x-python",
   "name": "python",
   "nbconvert_exporter": "python",
   "pygments_lexer": "ipython3",
   "version": "3.4.5"
  }
 },
 "nbformat": 4,
 "nbformat_minor": 2
}
