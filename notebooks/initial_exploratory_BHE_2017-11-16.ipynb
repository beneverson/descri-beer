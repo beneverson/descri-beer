{
 "cells": [
  {
   "cell_type": "code",
   "execution_count": 1,
   "metadata": {
    "collapsed": true
   },
   "outputs": [],
   "source": [
    "import pandas as pd\n",
    "from surprise import Dataset, Reader\n",
    "from surprise import NormalPredictor, SVD, KNNBasic, KNNBaseline\n",
    "from surprise import evaluate, print_perf"
   ]
  },
  {
   "cell_type": "code",
   "execution_count": 2,
   "metadata": {},
   "outputs": [
    {
     "name": "stderr",
     "output_type": "stream",
     "text": [
      "/Users/ben/miniconda3/lib/python3.4/site-packages/IPython/core/interactiveshell.py:2717: DtypeWarning: Columns (1) have mixed types. Specify dtype option on import or set low_memory=False.\n",
      "  interactivity=interactivity, compiler=compiler, result=result)\n"
     ]
    }
   ],
   "source": [
    "# load beer reviews data\n",
    "raw_df = pd.read_csv('../data/interim/ratebeer.csv')"
   ]
  },
  {
   "cell_type": "code",
   "execution_count": 3,
   "metadata": {},
   "outputs": [],
   "source": [
    "# convert it into something surpriselib can use\n",
    "ratings_df = raw_df[['review/profileName', 'beer/beerId', 'review/overall']].copy()\n",
    "# format the rating\n",
    "ratings_df['review/overall'] = ratings_df['review/overall'].apply(lambda frac: int(frac.split('/')[0]))\n",
    "# create a Reader and Dataset (surprise)\n",
    "reader = Reader(rating_scale=(1, 20))\n",
    "data = Dataset.load_from_df(ratings_df, reader)\n",
    "data.split(5)"
   ]
  },
  {
   "cell_type": "code",
   "execution_count": 4,
   "metadata": {
    "scrolled": false
   },
   "outputs": [
    {
     "name": "stdout",
     "output_type": "stream",
     "text": [
      "Evaluating RMSE, MAE of algorithm NormalPredictor.\n",
      "\n",
      "------------\n",
      "Fold 1\n",
      "RMSE: 4.6989\n",
      "MAE:  3.7034\n",
      "------------\n",
      "Fold 2\n",
      "RMSE: 4.6916\n",
      "MAE:  3.6988\n",
      "------------\n",
      "Fold 3\n",
      "RMSE: 4.6918\n",
      "MAE:  3.7021\n",
      "------------\n",
      "Fold 4\n",
      "RMSE: 4.6974\n",
      "MAE:  3.7080\n",
      "------------\n",
      "Fold 5\n",
      "RMSE: 4.6988\n",
      "MAE:  3.7066\n",
      "------------\n",
      "------------\n",
      "Mean RMSE: 4.6957\n",
      "Mean MAE : 3.7038\n",
      "------------\n",
      "------------\n",
      "        Fold 1  Fold 2  Fold 3  Fold 4  Fold 5  Mean    \n",
      "MAE     3.7034  3.6988  3.7021  3.7080  3.7066  3.7038  \n",
      "RMSE    4.6989  4.6916  4.6918  4.6974  4.6988  4.6957  \n",
      "Evaluating RMSE, MAE of algorithm KNNBasic.\n",
      "\n",
      "------------\n",
      "Fold 1\n",
      "Computing the msd similarity matrix...\n",
      "Done computing similarity matrix.\n",
      "RMSE: 2.2791\n",
      "MAE:  1.6313\n",
      "------------\n",
      "Fold 2\n",
      "Computing the msd similarity matrix...\n",
      "Done computing similarity matrix.\n",
      "RMSE: 2.2740\n",
      "MAE:  1.6266\n",
      "------------\n",
      "Fold 3\n",
      "Computing the msd similarity matrix...\n",
      "Done computing similarity matrix.\n",
      "RMSE: 2.2805\n",
      "MAE:  1.6313\n",
      "------------\n",
      "Fold 4\n",
      "Computing the msd similarity matrix...\n",
      "Done computing similarity matrix.\n",
      "RMSE: 2.2767\n",
      "MAE:  1.6297\n",
      "------------\n",
      "Fold 5\n",
      "Computing the msd similarity matrix...\n",
      "Done computing similarity matrix.\n",
      "RMSE: 2.2811\n",
      "MAE:  1.6310\n",
      "------------\n",
      "------------\n",
      "Mean RMSE: 2.2783\n",
      "Mean MAE : 1.6300\n",
      "------------\n",
      "------------\n",
      "        Fold 1  Fold 2  Fold 3  Fold 4  Fold 5  Mean    \n",
      "MAE     1.6313  1.6266  1.6313  1.6297  1.6310  1.6300  \n",
      "RMSE    2.2791  2.2740  2.2805  2.2767  2.2811  2.2783  \n",
      "Evaluating RMSE, MAE of algorithm SVD.\n",
      "\n",
      "------------\n",
      "Fold 1\n",
      "RMSE: 2.3226\n",
      "MAE:  1.6781\n",
      "------------\n",
      "Fold 2\n",
      "RMSE: 2.3189\n",
      "MAE:  1.6754\n",
      "------------\n",
      "Fold 3\n",
      "RMSE: 2.3226\n",
      "MAE:  1.6771\n",
      "------------\n",
      "Fold 4\n",
      "RMSE: 2.3210\n",
      "MAE:  1.6775\n",
      "------------\n",
      "Fold 5\n",
      "RMSE: 2.3269\n",
      "MAE:  1.6820\n",
      "------------\n",
      "------------\n",
      "Mean RMSE: 2.3224\n",
      "Mean MAE : 1.6780\n",
      "------------\n",
      "------------\n",
      "        Fold 1  Fold 2  Fold 3  Fold 4  Fold 5  Mean    \n",
      "MAE     1.6781  1.6754  1.6771  1.6775  1.6820  1.6780  \n",
      "RMSE    2.3226  2.3189  2.3226  2.3210  2.3269  2.3224  \n"
     ]
    }
   ],
   "source": [
    "# test out a bunch of different algorithms\n",
    "algos = [\n",
    "    NormalPredictor(),\n",
    "    KNNBasic(),\n",
    "#     KNNBaseline(),\n",
    "#     KNNBasic(sim_options={'user_based': False}),\n",
    "    SVD()\n",
    "]\n",
    "\n",
    "for algo in algos:\n",
    "    # evaluate performances\n",
    "    perf = evaluate(algo, data, measures=['RMSE', 'MAE'])\n",
    "    # print results\n",
    "    print_perf(perf)"
   ]
  },
  {
   "cell_type": "code",
   "execution_count": null,
   "metadata": {
    "collapsed": true
   },
   "outputs": [],
   "source": []
  }
 ],
 "metadata": {
  "kernelspec": {
   "display_name": "Python 3",
   "language": "python",
   "name": "python3"
  },
  "language_info": {
   "codemirror_mode": {
    "name": "ipython",
    "version": 3
   },
   "file_extension": ".py",
   "mimetype": "text/x-python",
   "name": "python",
   "nbconvert_exporter": "python",
   "pygments_lexer": "ipython3",
   "version": "3.4.5"
  }
 },
 "nbformat": 4,
 "nbformat_minor": 2
}
